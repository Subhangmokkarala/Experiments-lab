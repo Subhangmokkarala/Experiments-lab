{
 "cells": [
  {
   "cell_type": "code",
   "execution_count": 1,
   "id": "ee4db5e2",
   "metadata": {},
   "outputs": [],
   "source": [
    "import numpy as np"
   ]
  },
  {
   "cell_type": "code",
   "execution_count": 2,
   "id": "be0f1b3a",
   "metadata": {},
   "outputs": [],
   "source": [
    "X = np.array([\n",
    "    [1,0,-1],\n",
    "    [-1,1,0]\n",
    "]).T"
   ]
  },
  {
   "cell_type": "code",
   "execution_count": 3,
   "id": "0e8b9a49",
   "metadata": {},
   "outputs": [],
   "source": [
    "#X = np.array([\n",
    "#    [90,90,60,60,30],\n",
    "#    [60,90,60,60,30],\n",
    "#    [90,30,60,90,30]\n",
    "#]).T"
   ]
  },
  {
   "cell_type": "code",
   "execution_count": 4,
   "id": "9d8d2541",
   "metadata": {},
   "outputs": [
    {
     "data": {
      "text/plain": [
       "array([0., 0.])"
      ]
     },
     "execution_count": 4,
     "metadata": {},
     "output_type": "execute_result"
    }
   ],
   "source": [
    "X_Mean = np.mean(X,0)\n",
    "X_Mean"
   ]
  },
  {
   "cell_type": "code",
   "execution_count": 5,
   "id": "a51e9a9d",
   "metadata": {},
   "outputs": [
    {
     "data": {
      "text/plain": [
       "array([[ 0.5, -0.5],\n",
       "       [ 0. ,  0.5],\n",
       "       [-0.5,  0. ]])"
      ]
     },
     "execution_count": 5,
     "metadata": {},
     "output_type": "execute_result"
    }
   ],
   "source": [
    "S = (X-X_Mean)/(len(X)-1)\n",
    "X = S\n",
    "X\n"
   ]
  },
  {
   "cell_type": "code",
   "execution_count": 6,
   "id": "6d9a984d",
   "metadata": {},
   "outputs": [
    {
     "data": {
      "text/plain": [
       "3"
      ]
     },
     "execution_count": 6,
     "metadata": {},
     "output_type": "execute_result"
    }
   ],
   "source": [
    "N = len(X)\n",
    "N"
   ]
  },
  {
   "cell_type": "code",
   "execution_count": 7,
   "id": "d11e0fcc",
   "metadata": {},
   "outputs": [
    {
     "data": {
      "text/plain": [
       "array([[ 0.5  , -0.25 , -0.25 ],\n",
       "       [-0.25 ,  0.125,  0.125],\n",
       "       [-0.25 ,  0.125,  0.125]])"
      ]
     },
     "execution_count": 7,
     "metadata": {},
     "output_type": "execute_result"
    }
   ],
   "source": [
    "X_Cov = np.cov(X)\n",
    "X_Cov"
   ]
  },
  {
   "cell_type": "code",
   "execution_count": 8,
   "id": "02b9d5ef",
   "metadata": {},
   "outputs": [
    {
     "data": {
      "text/plain": [
       "array([[ 0.25 , -0.125],\n",
       "       [-0.125,  0.25 ]])"
      ]
     },
     "execution_count": 8,
     "metadata": {},
     "output_type": "execute_result"
    }
   ],
   "source": [
    "X_Cov = np.cov(X.T)\n",
    "X_Cov"
   ]
  },
  {
   "cell_type": "code",
   "execution_count": 9,
   "id": "1ace75c2",
   "metadata": {},
   "outputs": [
    {
     "data": {
      "text/plain": [
       "array([[ 0.5 , -0.25],\n",
       "       [-0.25,  0.5 ]])"
      ]
     },
     "execution_count": 9,
     "metadata": {},
     "output_type": "execute_result"
    }
   ],
   "source": [
    "#C_My = X.T*X\n",
    "C_My = np.matmul(X.T,X)\n",
    "C_My"
   ]
  },
  {
   "cell_type": "code",
   "execution_count": 10,
   "id": "ff034827",
   "metadata": {},
   "outputs": [],
   "source": [
    "from numpy import linalg as la"
   ]
  },
  {
   "cell_type": "code",
   "execution_count": 11,
   "id": "ecdedb7a",
   "metadata": {},
   "outputs": [
    {
     "data": {
      "text/plain": [
       "array([0.75, 0.25])"
      ]
     },
     "execution_count": 11,
     "metadata": {},
     "output_type": "execute_result"
    }
   ],
   "source": [
    "u,v = la.eig(C_My)\n",
    "u"
   ]
  },
  {
   "cell_type": "code",
   "execution_count": 12,
   "id": "62b7e780",
   "metadata": {},
   "outputs": [
    {
     "data": {
      "text/plain": [
       "array([[ 0.70710678,  0.70710678],\n",
       "       [-0.70710678,  0.70710678]])"
      ]
     },
     "execution_count": 12,
     "metadata": {},
     "output_type": "execute_result"
    }
   ],
   "source": [
    "v"
   ]
  },
  {
   "cell_type": "code",
   "execution_count": 13,
   "id": "c158307a",
   "metadata": {},
   "outputs": [],
   "source": [
    "idx = u.argsort()[::-1]   \n",
    "u = u[idx]\n",
    "v = v[:,idx]"
   ]
  },
  {
   "cell_type": "code",
   "execution_count": 14,
   "id": "998ee3f9",
   "metadata": {},
   "outputs": [
    {
     "data": {
      "text/plain": [
       "array([0.75, 0.25])"
      ]
     },
     "execution_count": 14,
     "metadata": {},
     "output_type": "execute_result"
    }
   ],
   "source": [
    "u"
   ]
  },
  {
   "cell_type": "code",
   "execution_count": 15,
   "id": "5fb3b85e",
   "metadata": {},
   "outputs": [
    {
     "data": {
      "text/plain": [
       "array([[ 0.70710678,  0.70710678],\n",
       "       [-0.70710678,  0.70710678]])"
      ]
     },
     "execution_count": 15,
     "metadata": {},
     "output_type": "execute_result"
    }
   ],
   "source": [
    "v"
   ]
  },
  {
   "cell_type": "code",
   "execution_count": 16,
   "id": "0a53a109",
   "metadata": {},
   "outputs": [
    {
     "data": {
      "text/plain": [
       "array([[ 0.70710678, -0.70710678]])"
      ]
     },
     "execution_count": 16,
     "metadata": {},
     "output_type": "execute_result"
    }
   ],
   "source": [
    "PC1 = np.array([v[:,0]])\n",
    "PC1"
   ]
  },
  {
   "cell_type": "code",
   "execution_count": 17,
   "id": "1421a58e",
   "metadata": {},
   "outputs": [],
   "source": [
    "#X_d = PC1*X.T\n",
    "#X_d"
   ]
  },
  {
   "cell_type": "code",
   "execution_count": 18,
   "id": "5ef6d11a",
   "metadata": {},
   "outputs": [
    {
     "data": {
      "text/plain": [
       "array([[ 0.70710678, -0.35355339, -0.35355339]])"
      ]
     },
     "execution_count": 18,
     "metadata": {},
     "output_type": "execute_result"
    }
   ],
   "source": [
    "X_d = np.matmul(PC1,(X-X_Mean).T)\n",
    "X_d"
   ]
  },
  {
   "cell_type": "code",
   "execution_count": 19,
   "id": "bb3a64e3",
   "metadata": {},
   "outputs": [
    {
     "data": {
      "text/plain": [
       "(3, 1)"
      ]
     },
     "execution_count": 19,
     "metadata": {},
     "output_type": "execute_result"
    }
   ],
   "source": [
    "X_d.T.shape"
   ]
  },
  {
   "cell_type": "code",
   "execution_count": 20,
   "id": "5974720e",
   "metadata": {},
   "outputs": [
    {
     "data": {
      "text/plain": [
       "(3, 2)"
      ]
     },
     "execution_count": 20,
     "metadata": {},
     "output_type": "execute_result"
    }
   ],
   "source": [
    "X.shape"
   ]
  },
  {
   "cell_type": "code",
   "execution_count": 21,
   "id": "78ad6b78",
   "metadata": {},
   "outputs": [],
   "source": [
    "#mse = np.sum((X-X_d)**2)"
   ]
  },
  {
   "cell_type": "code",
   "execution_count": 22,
   "id": "7186526c",
   "metadata": {},
   "outputs": [
    {
     "data": {
      "text/plain": [
       "array([[ 0.5 , -0.5 ],\n",
       "       [-0.25,  0.25],\n",
       "       [-0.25,  0.25]])"
      ]
     },
     "execution_count": 22,
     "metadata": {},
     "output_type": "execute_result"
    }
   ],
   "source": [
    "X_IPCA = np.matmul(PC1.T,X_d).T\n",
    "X_IPCA"
   ]
  },
  {
   "cell_type": "code",
   "execution_count": 23,
   "id": "0655960a",
   "metadata": {},
   "outputs": [
    {
     "data": {
      "text/plain": [
       "0.125"
      ]
     },
     "execution_count": 23,
     "metadata": {},
     "output_type": "execute_result"
    }
   ],
   "source": [
    "mse = np.sum((X-X_IPCA)**2)/len(X[0])\n",
    "mse"
   ]
  },
  {
   "cell_type": "code",
   "execution_count": 24,
   "id": "29b9a244",
   "metadata": {},
   "outputs": [
    {
     "data": {
      "text/plain": [
       "array([[ 0.5, -0.5],\n",
       "       [ 0. ,  0.5],\n",
       "       [-0.5,  0. ]])"
      ]
     },
     "execution_count": 24,
     "metadata": {},
     "output_type": "execute_result"
    }
   ],
   "source": [
    "X"
   ]
  },
  {
   "cell_type": "code",
   "execution_count": 25,
   "id": "0919d542",
   "metadata": {},
   "outputs": [],
   "source": [
    "from sklearn.decomposition import PCA"
   ]
  },
  {
   "cell_type": "code",
   "execution_count": 26,
   "id": "c9c08a0d",
   "metadata": {},
   "outputs": [],
   "source": [
    "pca = PCA(n_components=2)"
   ]
  },
  {
   "cell_type": "code",
   "execution_count": 27,
   "id": "4a5bc0c4",
   "metadata": {},
   "outputs": [
    {
     "data": {
      "text/plain": [
       "PCA(n_components=2)"
      ]
     },
     "execution_count": 27,
     "metadata": {},
     "output_type": "execute_result"
    }
   ],
   "source": [
    "pca.fit(X)"
   ]
  },
  {
   "cell_type": "code",
   "execution_count": 28,
   "id": "1b74e7a1",
   "metadata": {},
   "outputs": [
    {
     "name": "stdout",
     "output_type": "stream",
     "text": [
      "[0.75 0.25]\n"
     ]
    }
   ],
   "source": [
    "print(pca.explained_variance_ratio_)"
   ]
  },
  {
   "cell_type": "code",
   "execution_count": 29,
   "id": "45f9328a",
   "metadata": {},
   "outputs": [
    {
     "name": "stdout",
     "output_type": "stream",
     "text": [
      "[0.8660254 0.5      ]\n"
     ]
    }
   ],
   "source": [
    "print(pca.singular_values_)"
   ]
  },
  {
   "cell_type": "code",
   "execution_count": 30,
   "id": "1c6e0b39",
   "metadata": {},
   "outputs": [
    {
     "data": {
      "text/plain": [
       "array([[ 7.07106781e-01, -1.66533454e-16],\n",
       "       [-3.53553391e-01,  3.53553391e-01],\n",
       "       [-3.53553391e-01, -3.53553391e-01]])"
      ]
     },
     "execution_count": 30,
     "metadata": {},
     "output_type": "execute_result"
    }
   ],
   "source": [
    "X_D = pca.transform(X)\n",
    "X_D"
   ]
  },
  {
   "cell_type": "code",
   "execution_count": 31,
   "id": "ba11c78c",
   "metadata": {},
   "outputs": [
    {
     "data": {
      "text/plain": [
       "array([[ 0.70710678, -0.70710678],\n",
       "       [ 0.70710678,  0.70710678]])"
      ]
     },
     "execution_count": 31,
     "metadata": {},
     "output_type": "execute_result"
    }
   ],
   "source": [
    "pca.components_"
   ]
  },
  {
   "cell_type": "code",
   "execution_count": 32,
   "id": "1e2995a6",
   "metadata": {},
   "outputs": [],
   "source": [
    "X_Task = np.array([\n",
    "    [90,90,60,60,30],\n",
    "    [60,90,60,60,30],\n",
    "    [90,30,60,90,30]\n",
    "]).T"
   ]
  },
  {
   "cell_type": "code",
   "execution_count": null,
   "id": "a25f0473",
   "metadata": {},
   "outputs": [],
   "source": []
  }
 ],
 "metadata": {
  "kernelspec": {
   "display_name": "Python 3",
   "language": "python",
   "name": "python3"
  },
  "language_info": {
   "codemirror_mode": {
    "name": "ipython",
    "version": 3
   },
   "file_extension": ".py",
   "mimetype": "text/x-python",
   "name": "python",
   "nbconvert_exporter": "python",
   "pygments_lexer": "ipython3",
   "version": "3.10.9"
  },
  "vscode": {
   "interpreter": {
    "hash": "703a2633d53f0ac0693f18e961e3a01f114d9a575ce319f9f5162902043ab7c8"
   }
  }
 },
 "nbformat": 4,
 "nbformat_minor": 5
}
