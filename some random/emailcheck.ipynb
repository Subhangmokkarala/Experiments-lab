{
 "cells": [
  {
   "cell_type": "code",
   "execution_count": 1,
   "metadata": {},
   "outputs": [
    {
     "name": "stdout",
     "output_type": "stream",
     "text": [
      "john.doe@example.com is an email\n",
      "12345 is not an email\n",
      "example is not an email\n",
      "example.com is not an email\n",
      "abcdefghijk is not an email\n"
     ]
    }
   ],
   "source": [
    "import numpy as np\n",
    "from sklearn.linear_model import LogisticRegression\n",
    "\n",
    "# Generate some example data\n",
    "inputs = ['abc', 'abcd', 'abcde', 'example.com', 'jane.doe@example.com', 'foobar']\n",
    "\n",
    "# Create feature matrix (X) and target variable (y)\n",
    "X = np.array([[len(input_string), '.' in input_string] for input_string in inputs])\n",
    "y = np.array([0, 0, 0, 0, 1, 0]) # 1 = email, 0 = not email\n",
    "\n",
    "# Train logistic regression model\n",
    "lr = LogisticRegression()\n",
    "lr.fit(X, y)\n",
    "\n",
    "# Test the model on some new inputs\n",
    "new_inputs = ['john.do@example.com', '12345', 'example', 'example.com', 'abcdefghijk']\n",
    "new_X = np.array([[len(input_string), '.' in input_string] for input_string in new_inputs])\n",
    "predictions = lr.predict(new_X)\n",
    "\n",
    "# Print the predictions\n",
    "for i, input_string in enumerate(new_inputs):\n",
    "    if predictions[i] == 1:\n",
    "        print(f\"{input_string} is an email\")\n",
    "    else:\n",
    "        print(f\"{input_string} is not an email\")\n"
   ]
  }
 ],
 "metadata": {
  "kernelspec": {
   "display_name": "Python 3",
   "language": "python",
   "name": "python3"
  },
  "language_info": {
   "codemirror_mode": {
    "name": "ipython",
    "version": 3
   },
   "file_extension": ".py",
   "mimetype": "text/x-python",
   "name": "python",
   "nbconvert_exporter": "python",
   "pygments_lexer": "ipython3",
   "version": "3.10.9"
  },
  "orig_nbformat": 4
 },
 "nbformat": 4,
 "nbformat_minor": 2
}
