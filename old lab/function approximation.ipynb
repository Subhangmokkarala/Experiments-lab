{
 "cells": [
  {
   "cell_type": "code",
   "execution_count": 1,
   "metadata": {},
   "outputs": [
    {
     "data": {
      "text/plain": [
       "array([ 1,  2,  3,  4,  5,  6,  7,  8,  9, 10])"
      ]
     },
     "execution_count": 1,
     "metadata": {},
     "output_type": "execute_result"
    }
   ],
   "source": [
    "import numpy as np\n",
    "X = np.array([1, 2, 3, 4, 5, 6, 7, 8, 9, 10])\n",
    "X"
   ]
  },
  {
   "cell_type": "code",
   "execution_count": 2,
   "metadata": {},
   "outputs": [
    {
     "data": {
      "text/plain": [
       "array([[ 23,  45,  67,  89, 111, 133, 155, 177, 199, 221]])"
      ]
     },
     "execution_count": 2,
     "metadata": {},
     "output_type": "execute_result"
    }
   ],
   "source": [
    "y = np.array([22*X+1])\n",
    "y"
   ]
  },
  {
   "cell_type": "code",
   "execution_count": 3,
   "metadata": {},
   "outputs": [],
   "source": [
    "yp = []\n",
    "a = 0\n",
    "b = 0\n",
    "# Initialization\n",
    "epochs = 10\n",
    "n = len(X)\n",
    "l = 0.1"
   ]
  },
  {
   "cell_type": "code",
   "execution_count": 4,
   "metadata": {},
   "outputs": [
    {
     "data": {
      "text/plain": [
       "5"
      ]
     },
     "execution_count": 4,
     "metadata": {},
     "output_type": "execute_result"
    }
   ],
   "source": [
    "np.sum([2,3])"
   ]
  },
  {
   "cell_type": "code",
   "execution_count": 5,
   "metadata": {},
   "outputs": [
    {
     "name": "stdout",
     "output_type": "stream",
     "text": [
      "\n",
      " the error is 188770 after each epoch 0\n",
      "\n",
      " the error is 8877830.850000001 after each epoch 1\n",
      "\n",
      " the error is 417543751.0845002 after each epoch 2\n",
      "\n",
      " the error is 19638012183.64462 after each epoch 3\n",
      "\n",
      " the error is 923619449944.5723 after each epoch 4\n",
      "\n",
      " the error is 43439879792736.42 after each epoch 5\n",
      "\n",
      " the error is 2043074294866799.5 after each epoch 6\n",
      "\n",
      " the error is 9.60903343715976e+16 after each epoch 7\n",
      "\n",
      " the error is 4.519342435487608e+18 after each epoch 8\n",
      "\n",
      " the error is 2.1255474010751425e+20 after each epoch 9\n"
     ]
    }
   ],
   "source": [
    "for i in range(epochs):\n",
    "    for j in range(len(X)):\n",
    "     yp = a*X + b\n",
    "    da = (-2/len(X)) * np.sum(X * (y - yp))\n",
    "    db = (-2/len(X)) * np.sum(y - yp)\n",
    "    a = a - l * da\n",
    "    b = b - l * db\n",
    "    e = np.sum((y - yp)**2)\n",
    "    print('\\n the error is', e,'after each epoch', i)"
   ]
  },
  {
   "cell_type": "code",
   "execution_count": 6,
   "metadata": {},
   "outputs": [
    {
     "data": {
      "text/plain": [
       "array([8.32624325e+08, 1.56067155e+09, 2.28871877e+09, 3.01676599e+09,\n",
       "       3.74481321e+09, 4.47286043e+09, 5.20090765e+09, 5.92895488e+09,\n",
       "       6.65700210e+09, 7.38504932e+09])"
      ]
     },
     "execution_count": 6,
     "metadata": {},
     "output_type": "execute_result"
    }
   ],
   "source": [
    "yp"
   ]
  },
  {
   "cell_type": "code",
   "execution_count": 7,
   "metadata": {},
   "outputs": [
    {
     "data": {
      "text/plain": [
       "2.1255474010751425e+20"
      ]
     },
     "execution_count": 7,
     "metadata": {},
     "output_type": "execute_result"
    }
   ],
   "source": [
    "e"
   ]
  },
  {
   "cell_type": "code",
   "execution_count": 8,
   "metadata": {},
   "outputs": [
    {
     "data": {
      "text/plain": [
       "-4992951028.160711"
      ]
     },
     "execution_count": 8,
     "metadata": {},
     "output_type": "execute_result"
    }
   ],
   "source": [
    "a"
   ]
  },
  {
   "cell_type": "code",
   "execution_count": 9,
   "metadata": {},
   "outputs": [
    {
     "data": {
      "text/plain": [
       "-717190236.8003147"
      ]
     },
     "execution_count": 9,
     "metadata": {},
     "output_type": "execute_result"
    }
   ],
   "source": [
    "b"
   ]
  },
  {
   "cell_type": "code",
   "execution_count": 10,
   "metadata": {},
   "outputs": [],
   "source": [
    "a = 0\n",
    "b = 0\n",
    "yp = 0\n",
    "e =0 \n",
    "from numpy.random import default_rng\n",
    "a = default_rng(42).random()\n",
    "b = default_rng(42).random()"
   ]
  },
  {
   "cell_type": "code",
   "execution_count": 11,
   "metadata": {},
   "outputs": [
    {
     "name": "stdout",
     "output_type": "stream",
     "text": [
      "\n",
      " the error is 173988.0956360179 after each epoch 0\n",
      "\n",
      " the error is 8182291.637401167 after each epoch 0\n",
      "\n",
      " the error is 384830705.26406676 after each epoch 0\n",
      "\n",
      " the error is 18099444517.112747 after each epoch 0\n",
      "\n",
      " the error is 851257185685.9038 after each epoch 0\n",
      "\n",
      " the error is 40036521341002.375 after each epoch 0\n",
      "\n",
      " the error is 1883006767006651.8 after each epoch 0\n",
      "\n",
      " the error is 8.85620020379367e+16 after each epoch 0\n",
      "\n",
      " the error is 4.165268198921903e+18 after each epoch 0\n",
      "\n",
      " the error is 1.9590184017653793e+20 after each epoch 0\n",
      "\n",
      " the error is 9.213699851185351e+21 after each epoch 1\n",
      "\n",
      " the error is 4.333408245233014e+23 after each epoch 1\n",
      "\n",
      " the error is 2.038098410318588e+25 after each epoch 1\n",
      "\n",
      " the error is 9.585630743912975e+26 after each epoch 1\n",
      "\n",
      " the error is 4.508335627634711e+28 after each epoch 1\n",
      "\n",
      " the error is 2.1203706542010508e+30 after each epoch 1\n",
      "\n",
      " the error is 9.972575430360752e+31 after each epoch 1\n",
      "\n",
      " the error is 4.6903243316064596e+33 after each epoch 1\n",
      "\n",
      " the error is 2.2059639948859002e+35 after each epoch 1\n",
      "\n",
      " the error is 1.0375139974736537e+37 after each epoch 1\n",
      "\n",
      " the error is 4.87965940264332e+38 after each epoch 2\n",
      "\n",
      " the error is 2.295012495617922e+40 after each epoch 2\n",
      "\n",
      " the error is 1.0793954906338777e+42 after each epoch 2\n",
      "\n",
      " the error is 5.076637392717346e+43 after each epoch 2\n",
      "\n",
      " the error is 2.3876556313943063e+45 after each epoch 2\n",
      "\n",
      " the error is 1.1229676207142794e+47 after each epoch 2\n",
      "\n",
      " the error is 5.2815668247614e+48 after each epoch 2\n",
      "\n",
      " the error is 2.484038507421721e+50 after each epoch 2\n",
      "\n",
      " the error is 1.1682986339253014e+52 after each epoch 2\n",
      "\n",
      " the error is 5.494768675902813e+53 after each epoch 2\n",
      "\n",
      " the error is 2.584312086391877e+55 after each epoch 3\n",
      "\n",
      " the error is 1.2154595313830573e+57 after each epoch 3\n",
      "\n",
      " the error is 5.716576880203864e+58 after each epoch 3\n",
      "\n",
      " the error is 2.6886334249315558e+60 after each epoch 3\n",
      "\n",
      " the error is 1.2645241803170503e+62 after each epoch 3\n",
      "\n",
      " the error is 5.94733885169643e+63 after each epoch 3\n",
      "\n",
      " the error is 2.797165919597471e+65 after each epoch 3\n",
      "\n",
      " the error is 1.3155694297670288e+67 after each epoch 3\n",
      "\n",
      " the error is 6.187416028530069e+68 after each epoch 3\n",
      "\n",
      " the error is 2.910079562801217e+70 after each epoch 3\n",
      "\n",
      " the error is 1.3686752309501944e+72 after each epoch 4\n",
      "\n",
      " the error is 6.437184439085825e+73 after each epoch 4\n",
      "\n",
      " the error is 3.0275512090652107e+75 after each epoch 4\n",
      "\n",
      " the error is 1.4239247624872998e+77 after each epoch 4\n",
      "\n",
      " the error is 6.697035290942427e+78 after each epoch 4\n",
      "\n",
      " the error is 3.1497648520266065e+80 after each epoch 4\n",
      "\n",
      " the error is 1.4814045606837582e+82 after each epoch 4\n",
      "\n",
      " the error is 6.967375583617378e+83 after each epoch 4\n",
      "\n",
      " the error is 3.276911912623074e+85 after each epoch 4\n",
      "\n",
      " the error is 1.5412046550698363e+87 after each epoch 4\n",
      "\n",
      " the error is 7.248628746042685e+88 after each epoch 5\n",
      "\n",
      " the error is 3.409191538911846e+90 after each epoch 5\n",
      "\n",
      " the error is 1.603418709412225e+92 after each epoch 5\n",
      "\n",
      " the error is 7.541235299773644e+93 after each epoch 5\n",
      "\n",
      " the error is 3.546810917991554e+95 after each epoch 5\n",
      "\n",
      " the error is 1.668144168417831e+97 after each epoch 5\n",
      "\n",
      " the error is 7.845653548969495e+98 after each epoch 5\n",
      "\n",
      " the error is 3.689985600515534e+100 after each epoch 5\n",
      "\n",
      " the error is 1.735482410359607e+102 after each epoch 5\n",
      "\n",
      " the error is 8.16236029822663e+103 after each epoch 5\n",
      "\n",
      " the error is 3.838939838304739e+105 after each epoch 6\n",
      "\n",
      " the error is 1.805538905863431e+107 after each epoch 6\n",
      "\n",
      " the error is 8.491851599388711e+108 after each epoch 6\n",
      "\n",
      " the error is 3.993906935589183e+110 after each epoch 6\n",
      "\n",
      " the error is 1.8784233831047682e+112 after each epoch 6\n",
      "\n",
      " the error is 8.834643528503348e+113 after each epoch 6\n",
      "\n",
      " the error is 4.155129614427978e+115 after each epoch 6\n",
      "\n",
      " the error is 1.9542499996738666e+117 after each epoch 6\n",
      "\n",
      " the error is 9.19127299414237e+118 after each epoch 6\n",
      "\n",
      " the error is 4.322860394880346e+120 after each epoch 6\n",
      "\n",
      " the error is 2.033137521378641e+122 after each epoch 7\n",
      "\n",
      " the error is 9.562298578351616e+123 after each epoch 7\n",
      "\n",
      " the error is 4.497361990523044e+125 after each epoch 7\n",
      "\n",
      " the error is 2.1152095082653308e+127 after each epoch 7\n",
      "\n",
      " the error is 9.948301411547533e+128 after each epoch 7\n",
      "\n",
      " the error is 4.678907719933721e+130 after each epoch 7\n",
      "\n",
      " the error is 2.2005945081482877e+132 after each epoch 7\n",
      "\n",
      " the error is 1.0349886082730875e+134 after each epoch 7\n",
      "\n",
      " the error is 4.867781934784687e+135 after each epoch 7\n",
      "\n",
      " the error is 2.289426257952011e+137 after each epoch 7\n",
      "\n",
      " the error is 1.0767681586443104e+139 after each epoch 8\n",
      "\n",
      " the error is 5.064280465217597e+140 after each epoch 8\n",
      "\n",
      " the error is 2.3818438931807734e+142 after each epoch 8\n",
      "\n",
      " the error is 1.1202342307948739e+144 after each epoch 8\n",
      "\n",
      " the error is 5.268711083196661e+145 after each epoch 8\n",
      "\n",
      " the error is 2.4779921658439635e+147 after each epoch 8\n",
      "\n",
      " the error is 1.1654549048186738e+149 after each epoch 8\n",
      "\n",
      " the error is 5.481393984566101e+150 after each epoch 8\n",
      "\n",
      " the error is 2.578021671178437e+152 after each epoch 8\n",
      "\n",
      " the error is 1.2125010090096211e+154 after each epoch 8\n",
      "\n",
      " the error is 5.702662290566886e+155 after each epoch 9\n",
      "\n",
      " the error is 2.6820890835230232e+157 after each epoch 9\n",
      "\n",
      " the error is 1.2614462307986815e+159 after each epoch 9\n",
      "\n",
      " the error is 5.932862569598312e+160 after each epoch 9\n",
      "\n",
      " the error is 2.790357401714589e+162 after each epoch 9\n",
      "\n",
      " the error is 1.3123672321690997e+164 after each epoch 9\n",
      "\n",
      " the error is 6.172355380041566e+165 after each epoch 9\n",
      "\n",
      " the error is 2.9029962043900756e+167 after each epoch 9\n",
      "\n",
      " the error is 1.3653437697306463e+169 after each epoch 9\n",
      "\n",
      " the error is 6.421515834995574e+170 after each epoch 9\n"
     ]
    }
   ],
   "source": [
    "for i in range(epochs):\n",
    "    for j in range(len(X)):\n",
    "        yp = a*X + b\n",
    "        da = (-2/len(X)) * np.sum(X * (y - yp))\n",
    "        db = (-2/len(X)) * np.sum(y - yp)\n",
    "        a = a - l * da\n",
    "        b = b - l * db\n",
    "        e = np.sum((y - yp)**2)\n",
    "        print('\\n the error is', e,'after each epoch', i)"
   ]
  },
  {
   "cell_type": "code",
   "execution_count": 12,
   "metadata": {},
   "outputs": [
    {
     "data": {
      "text/html": [
       "<div>\n",
       "<style scoped>\n",
       "    .dataframe tbody tr th:only-of-type {\n",
       "        vertical-align: middle;\n",
       "    }\n",
       "\n",
       "    .dataframe tbody tr th {\n",
       "        vertical-align: top;\n",
       "    }\n",
       "\n",
       "    .dataframe thead th {\n",
       "        text-align: right;\n",
       "    }\n",
       "</style>\n",
       "<table border=\"1\" class=\"dataframe\">\n",
       "  <thead>\n",
       "    <tr style=\"text-align: right;\">\n",
       "      <th></th>\n",
       "      <th>TV</th>\n",
       "      <th>Sales</th>\n",
       "    </tr>\n",
       "  </thead>\n",
       "  <tbody>\n",
       "    <tr>\n",
       "      <th>0</th>\n",
       "      <td>230.1</td>\n",
       "      <td>22.1</td>\n",
       "    </tr>\n",
       "    <tr>\n",
       "      <th>1</th>\n",
       "      <td>44.5</td>\n",
       "      <td>10.4</td>\n",
       "    </tr>\n",
       "    <tr>\n",
       "      <th>2</th>\n",
       "      <td>17.2</td>\n",
       "      <td>9.3</td>\n",
       "    </tr>\n",
       "    <tr>\n",
       "      <th>3</th>\n",
       "      <td>151.5</td>\n",
       "      <td>18.5</td>\n",
       "    </tr>\n",
       "    <tr>\n",
       "      <th>4</th>\n",
       "      <td>180.8</td>\n",
       "      <td>12.9</td>\n",
       "    </tr>\n",
       "    <tr>\n",
       "      <th>...</th>\n",
       "      <td>...</td>\n",
       "      <td>...</td>\n",
       "    </tr>\n",
       "    <tr>\n",
       "      <th>195</th>\n",
       "      <td>38.2</td>\n",
       "      <td>7.6</td>\n",
       "    </tr>\n",
       "    <tr>\n",
       "      <th>196</th>\n",
       "      <td>94.2</td>\n",
       "      <td>9.7</td>\n",
       "    </tr>\n",
       "    <tr>\n",
       "      <th>197</th>\n",
       "      <td>177.0</td>\n",
       "      <td>12.8</td>\n",
       "    </tr>\n",
       "    <tr>\n",
       "      <th>198</th>\n",
       "      <td>283.6</td>\n",
       "      <td>25.5</td>\n",
       "    </tr>\n",
       "    <tr>\n",
       "      <th>199</th>\n",
       "      <td>232.1</td>\n",
       "      <td>13.4</td>\n",
       "    </tr>\n",
       "  </tbody>\n",
       "</table>\n",
       "<p>200 rows × 2 columns</p>\n",
       "</div>"
      ],
      "text/plain": [
       "        TV  Sales\n",
       "0    230.1   22.1\n",
       "1     44.5   10.4\n",
       "2     17.2    9.3\n",
       "3    151.5   18.5\n",
       "4    180.8   12.9\n",
       "..     ...    ...\n",
       "195   38.2    7.6\n",
       "196   94.2    9.7\n",
       "197  177.0   12.8\n",
       "198  283.6   25.5\n",
       "199  232.1   13.4\n",
       "\n",
       "[200 rows x 2 columns]"
      ]
     },
     "execution_count": 12,
     "metadata": {},
     "output_type": "execute_result"
    }
   ],
   "source": [
    "import pandas as pd\n",
    "#df = pd.read_csv('https://github.com/Subhangmokkarala/MLWP_LAB_2023/blob/main/tvmarketing.csv')\n",
    "df = pd.read_csv('https://raw.githubusercontent.com/Subhangmokkarala/MLWP_LAB_2023/main/tvmarketing.csv')\n",
    "df\n"
   ]
  },
  {
   "cell_type": "code",
   "execution_count": 13,
   "metadata": {},
   "outputs": [
    {
     "data": {
      "text/html": [
       "<div>\n",
       "<style scoped>\n",
       "    .dataframe tbody tr th:only-of-type {\n",
       "        vertical-align: middle;\n",
       "    }\n",
       "\n",
       "    .dataframe tbody tr th {\n",
       "        vertical-align: top;\n",
       "    }\n",
       "\n",
       "    .dataframe thead th {\n",
       "        text-align: right;\n",
       "    }\n",
       "</style>\n",
       "<table border=\"1\" class=\"dataframe\">\n",
       "  <thead>\n",
       "    <tr style=\"text-align: right;\">\n",
       "      <th></th>\n",
       "      <th>TV</th>\n",
       "      <th>Sales</th>\n",
       "    </tr>\n",
       "  </thead>\n",
       "  <tbody>\n",
       "    <tr>\n",
       "      <th>count</th>\n",
       "      <td>200.000000</td>\n",
       "      <td>200.000000</td>\n",
       "    </tr>\n",
       "    <tr>\n",
       "      <th>mean</th>\n",
       "      <td>147.042500</td>\n",
       "      <td>14.022500</td>\n",
       "    </tr>\n",
       "    <tr>\n",
       "      <th>std</th>\n",
       "      <td>85.854236</td>\n",
       "      <td>5.217457</td>\n",
       "    </tr>\n",
       "    <tr>\n",
       "      <th>min</th>\n",
       "      <td>0.700000</td>\n",
       "      <td>1.600000</td>\n",
       "    </tr>\n",
       "    <tr>\n",
       "      <th>25%</th>\n",
       "      <td>74.375000</td>\n",
       "      <td>10.375000</td>\n",
       "    </tr>\n",
       "    <tr>\n",
       "      <th>50%</th>\n",
       "      <td>149.750000</td>\n",
       "      <td>12.900000</td>\n",
       "    </tr>\n",
       "    <tr>\n",
       "      <th>75%</th>\n",
       "      <td>218.825000</td>\n",
       "      <td>17.400000</td>\n",
       "    </tr>\n",
       "    <tr>\n",
       "      <th>max</th>\n",
       "      <td>296.400000</td>\n",
       "      <td>27.000000</td>\n",
       "    </tr>\n",
       "  </tbody>\n",
       "</table>\n",
       "</div>"
      ],
      "text/plain": [
       "               TV       Sales\n",
       "count  200.000000  200.000000\n",
       "mean   147.042500   14.022500\n",
       "std     85.854236    5.217457\n",
       "min      0.700000    1.600000\n",
       "25%     74.375000   10.375000\n",
       "50%    149.750000   12.900000\n",
       "75%    218.825000   17.400000\n",
       "max    296.400000   27.000000"
      ]
     },
     "execution_count": 13,
     "metadata": {},
     "output_type": "execute_result"
    }
   ],
   "source": [
    "df.shape\n",
    "df.describe()"
   ]
  },
  {
   "cell_type": "code",
   "execution_count": 14,
   "metadata": {},
   "outputs": [
    {
     "name": "stdout",
     "output_type": "stream",
     "text": [
      "TV       False\n",
      "Sales    False\n",
      "dtype: bool\n"
     ]
    }
   ],
   "source": [
    "print(df.isnull().any())"
   ]
  },
  {
   "cell_type": "code",
   "execution_count": 15,
   "metadata": {},
   "outputs": [],
   "source": [
    "X = df.iloc[:, 0]"
   ]
  },
  {
   "cell_type": "code",
   "execution_count": 16,
   "metadata": {},
   "outputs": [
    {
     "data": {
      "text/plain": [
       "0      230.1\n",
       "1       44.5\n",
       "2       17.2\n",
       "3      151.5\n",
       "4      180.8\n",
       "       ...  \n",
       "195     38.2\n",
       "196     94.2\n",
       "197    177.0\n",
       "198    283.6\n",
       "199    232.1\n",
       "Name: TV, Length: 200, dtype: float64"
      ]
     },
     "execution_count": 16,
     "metadata": {},
     "output_type": "execute_result"
    }
   ],
   "source": [
    "X"
   ]
  },
  {
   "cell_type": "code",
   "execution_count": 17,
   "metadata": {},
   "outputs": [
    {
     "data": {
      "text/plain": [
       "0      22.1\n",
       "1      10.4\n",
       "2       9.3\n",
       "3      18.5\n",
       "4      12.9\n",
       "       ... \n",
       "195     7.6\n",
       "196     9.7\n",
       "197    12.8\n",
       "198    25.5\n",
       "199    13.4\n",
       "Name: Sales, Length: 200, dtype: float64"
      ]
     },
     "execution_count": 17,
     "metadata": {},
     "output_type": "execute_result"
    }
   ],
   "source": [
    "y = df.iloc[:, 1]\n",
    "y"
   ]
  },
  {
   "cell_type": "code",
   "execution_count": 18,
   "metadata": {},
   "outputs": [],
   "source": [
    "X = np.array(X)\n",
    "y = np.array(y)"
   ]
  },
  {
   "cell_type": "code",
   "execution_count": 19,
   "metadata": {},
   "outputs": [],
   "source": [
    "from sklearn.model_selection import train_test_split"
   ]
  },
  {
   "cell_type": "code",
   "execution_count": 20,
   "metadata": {},
   "outputs": [],
   "source": [
    "X_train, X_test, y_train, y_test = train_test_split(X, y, test_size=0.2, random_state=0)"
   ]
  },
  {
   "cell_type": "code",
   "execution_count": 21,
   "metadata": {},
   "outputs": [
    {
     "name": "stdout",
     "output_type": "stream",
     "text": [
      "(160,)\n",
      "(40,)\n",
      "(160,)\n",
      "(40,)\n"
     ]
    }
   ],
   "source": [
    "print(X_train.shape)\n",
    "print(X_test.shape)\n",
    "print(y_train.shape)\n",
    "print(y_test.shape)\n"
   ]
  },
  {
   "cell_type": "code",
   "execution_count": 22,
   "metadata": {},
   "outputs": [
    {
     "data": {
      "text/plain": [
       "(array([ 36.9,  31.5, 142.9, 209.6, 215.4, 102.7,   8.6,  16.9, 125.7,\n",
       "        104.6, 109.8, 229.5, 253.8, 184.9,  44.7,  62.3, 292.9, 172.5,\n",
       "        202.5,   7.3, 265.2, 197.6, 218.5, 147.3, 171.3, 217.7, 262.7,\n",
       "        163.5, 100.4,  76.3, 184.9, 134.3, 273.7, 296.4,  96.2, 109.8,\n",
       "        255.4, 204.1, 240.1, 193.7, 191.1,  89.7,  43. ,  38.2,  13.1,\n",
       "        239.3,  17.2, 210.7,  25.6, 177. , 206.9,  66.1, 149.7, 129.4,\n",
       "         94.2, 276.7, 276.9,   7.8, 250.9, 175.7,  11.7,  75.5, 199.8,\n",
       "        230.1, 107.4, 225.8, 163.3, 131.1, 206.8, 177. , 216.8,  66.9,\n",
       "        227.2, 193.2,  97.5,  85.7, 228.3, 139.5,  48.3, 218.4, 195.4,\n",
       "          5.4, 238.2, 216.4, 222.4,  27.5, 151.5, 139.2, 117.2, 283.6,\n",
       "         57.5, 237.4, 213.5,  18.8,   4.1, 164.5,  93.9,  28.6, 232.1,\n",
       "        214.7,  19.4, 280.2, 290.7, 136.2,  69. ,  44.5, 141.3, 188.4,\n",
       "        293.6, 137.9,   8.4, 168.4, 281.4,  43.1, 219.8, 182.6, 149.8,\n",
       "        220.3,  95.7, 248.8,  78.2, 121. , 112.9,  17.9,  80.2, 248.4,\n",
       "         97.2, 220.5, 284.3, 243.2,  70.6, 135.2,  75.3, 116. ,  75.1,\n",
       "         38. , 166.8,  26.8, 120.5, 262.9, 234.5, 239.8, 286. , 222.4,\n",
       "         39.5, 228. , 210.8,  73.4,  88.3, 199.1, 110.7, 266.9, 237.4,\n",
       "        199.8, 187.9, 139.3,  17.2,  76.4, 239.9,  19.6]),\n",
       " array([10.8,  9.5, 15. , 15.9, 17.1, 14. ,  4.8,  8.7, 15.9, 10.4, 12.4,\n",
       "        19.7, 17.6, 15.5, 10.1,  9.7, 21.4, 14.4, 16.6,  5.5, 12.7, 11.7,\n",
       "        12.2, 14.6, 19. , 19.4, 20.2, 18. , 10.7, 12. , 20.7, 11.2, 20.8,\n",
       "        23.8, 11.4, 16.7, 19.8, 19. , 15.9, 19.2, 17.3, 10.6,  9.6,  7.6,\n",
       "         5.3, 15.7,  9.3, 18.4,  9.5, 12.8, 12.9,  8.6, 17.3, 11. ,  9.7,\n",
       "        11.8, 27. ,  6.6, 22.2, 14.1,  7.3,  9.9, 11.4, 22.1, 11.5, 13.4,\n",
       "        16.9, 18. , 12.2, 17.1, 22.3,  9.7, 14.8, 15.2,  9.7, 13.3, 15.5,\n",
       "        10.3, 11.6, 18. , 22.4,  5.3, 20.7, 22.6, 11.7,  6.9, 18.5, 12.2,\n",
       "        11.9, 25.5, 11.8, 18.9, 21.7,  7. ,  3.2, 14.5, 15.3,  7.3, 13.4,\n",
       "        17.4,  6.6, 14.8, 12.8, 13.2,  9.3, 10.4, 15.5, 14.9, 20.7, 19.2,\n",
       "         5.7, 11.7, 24.4, 10.1, 19.6, 21.2, 10.1, 24.7,  9.5, 18.9, 14.6,\n",
       "        11.6, 11.9,  8. ,  8.8, 20.2,  9.6, 20.1, 15. , 25.4, 10.5, 17.2,\n",
       "        11.3, 11. , 12.6, 10.9, 19.6,  8.8, 14.2, 12. , 11.9, 12.3, 15.9,\n",
       "        11.5, 10.8, 21.5, 23.8, 10.9, 12.9, 18.3, 16. , 25.4, 12.5, 10.6,\n",
       "        14.7, 13.4,  5.9,  9.4, 23.2,  7.6]))"
      ]
     },
     "execution_count": 22,
     "metadata": {},
     "output_type": "execute_result"
    }
   ],
   "source": [
    "X_train,y_train"
   ]
  },
  {
   "cell_type": "code",
   "execution_count": 23,
   "metadata": {},
   "outputs": [],
   "source": [
    "a=0\n",
    "b=0\n",
    "yp=0\n",
    "e=0\n",
    "from numpy.random import default_rng\n",
    "a = default_rng(42).random()\n",
    "b = default_rng(42).random()\n",
    "l = 0.0001\n",
    "epochs = 10004"
   ]
  },
  {
   "cell_type": "code",
   "execution_count": 24,
   "metadata": {},
   "outputs": [
    {
     "name": "stderr",
     "output_type": "stream",
     "text": [
      "c:\\Users\\Subhang Mokkarala\\AppData\\Local\\Programs\\Python\\Python310\\lib\\site-packages\\numpy\\core\\fromnumeric.py:86: RuntimeWarning: overflow encountered in reduce\n",
      "  return ufunc.reduce(obj, axis, dtype, out, **passkwargs)\n",
      "C:\\Users\\Subhang Mokkarala\\AppData\\Local\\Temp\\ipykernel_23748\\3954661217.py:8: RuntimeWarning: overflow encountered in square\n",
      "  e = np.sum((y_train - yp)**2)\n",
      "C:\\Users\\Subhang Mokkarala\\AppData\\Local\\Temp\\ipykernel_23748\\3954661217.py:6: RuntimeWarning: invalid value encountered in scalar subtract\n",
      "  a = a - l * da\n"
     ]
    }
   ],
   "source": [
    "for i in range(epochs):\n",
    "    for j in range(len(X_train)):\n",
    "        yp = a*X_train + b\n",
    "        da = (-2/len(X)) * np.sum(X_train * (y_train - yp))\n",
    "        db = (-2/len(X)) * np.sum(y_train - yp)\n",
    "        a = a - l * da\n",
    "        b = b - l * db\n",
    "        e = np.sum((y_train - yp)**2)\n",
    "      "
   ]
  },
  {
   "cell_type": "code",
   "execution_count": 25,
   "metadata": {},
   "outputs": [
    {
     "data": {
      "text/plain": [
       "nan"
      ]
     },
     "execution_count": 25,
     "metadata": {},
     "output_type": "execute_result"
    }
   ],
   "source": [
    "a"
   ]
  },
  {
   "cell_type": "code",
   "execution_count": 26,
   "metadata": {},
   "outputs": [
    {
     "data": {
      "text/plain": [
       "nan"
      ]
     },
     "execution_count": 26,
     "metadata": {},
     "output_type": "execute_result"
    }
   ],
   "source": [
    "b"
   ]
  },
  {
   "cell_type": "code",
   "execution_count": 27,
   "metadata": {},
   "outputs": [
    {
     "data": {
      "text/plain": [
       "nan"
      ]
     },
     "execution_count": 27,
     "metadata": {},
     "output_type": "execute_result"
    }
   ],
   "source": [
    "e"
   ]
  },
  {
   "cell_type": "code",
   "execution_count": 28,
   "metadata": {},
   "outputs": [],
   "source": [
    "import matplotlib.pyplot as plt"
   ]
  },
  {
   "cell_type": "code",
   "execution_count": 29,
   "metadata": {},
   "outputs": [],
   "source": [
    "yp = a*X_test+b"
   ]
  },
  {
   "cell_type": "code",
   "execution_count": 30,
   "metadata": {},
   "outputs": [
    {
     "data": {
      "text/plain": [
       "[<matplotlib.lines.Line2D at 0x20cc7d776d0>]"
      ]
     },
     "execution_count": 30,
     "metadata": {},
     "output_type": "execute_result"
    },
    {
     "data": {
      "image/png": "[encoded data removed]",
      "text/plain": [
       "<Figure size 640x480 with 1 Axes>"
      ]
     },
     "metadata": {},
     "output_type": "display_data"
    }
   ],
   "source": [
    "plt.plot(y_test)\n",
    "plt.plot(yp,'r')"
   ]
  },
  {
   "cell_type": "code",
   "execution_count": 32,
   "metadata": {},
   "outputs": [
    {
     "ename": "ValueError",
     "evalue": "x and y must be the same size",
     "output_type": "error",
     "traceback": [
      "\u001b[1;31m---------------------------------------------------------------------------\u001b[0m",
      "\u001b[1;31mValueError\u001b[0m                                Traceback (most recent call last)",
      "Cell \u001b[1;32mIn[32], line 2\u001b[0m\n\u001b[0;32m      1\u001b[0m X1 \u001b[39m=\u001b[39m np\u001b[39m.\u001b[39mlinspace(\u001b[39m0\u001b[39m,\u001b[39m1\u001b[39m,\u001b[39m60\u001b[39m)\n\u001b[1;32m----> 2\u001b[0m plt\u001b[39m.\u001b[39;49mscatter(X1,y_test)\n\u001b[0;32m      3\u001b[0m plt\u001b[39m.\u001b[39mscatter(X1,yp)\n",
      "File \u001b[1;32mc:\\Users\\Subhang Mokkarala\\AppData\\Local\\Programs\\Python\\Python310\\lib\\site-packages\\matplotlib\\pyplot.py:2798\u001b[0m, in \u001b[0;36mscatter\u001b[1;34m(x, y, s, c, marker, cmap, norm, vmin, vmax, alpha, linewidths, edgecolors, plotnonfinite, data, **kwargs)\u001b[0m\n\u001b[0;32m   2793\u001b[0m \u001b[39m@_copy_docstring_and_deprecators\u001b[39m(Axes\u001b[39m.\u001b[39mscatter)\n\u001b[0;32m   2794\u001b[0m \u001b[39mdef\u001b[39;00m \u001b[39mscatter\u001b[39m(\n\u001b[0;32m   2795\u001b[0m         x, y, s\u001b[39m=\u001b[39m\u001b[39mNone\u001b[39;00m, c\u001b[39m=\u001b[39m\u001b[39mNone\u001b[39;00m, marker\u001b[39m=\u001b[39m\u001b[39mNone\u001b[39;00m, cmap\u001b[39m=\u001b[39m\u001b[39mNone\u001b[39;00m, norm\u001b[39m=\u001b[39m\u001b[39mNone\u001b[39;00m,\n\u001b[0;32m   2796\u001b[0m         vmin\u001b[39m=\u001b[39m\u001b[39mNone\u001b[39;00m, vmax\u001b[39m=\u001b[39m\u001b[39mNone\u001b[39;00m, alpha\u001b[39m=\u001b[39m\u001b[39mNone\u001b[39;00m, linewidths\u001b[39m=\u001b[39m\u001b[39mNone\u001b[39;00m, \u001b[39m*\u001b[39m,\n\u001b[0;32m   2797\u001b[0m         edgecolors\u001b[39m=\u001b[39m\u001b[39mNone\u001b[39;00m, plotnonfinite\u001b[39m=\u001b[39m\u001b[39mFalse\u001b[39;00m, data\u001b[39m=\u001b[39m\u001b[39mNone\u001b[39;00m, \u001b[39m*\u001b[39m\u001b[39m*\u001b[39mkwargs):\n\u001b[1;32m-> 2798\u001b[0m     __ret \u001b[39m=\u001b[39m gca()\u001b[39m.\u001b[39mscatter(\n\u001b[0;32m   2799\u001b[0m         x, y, s\u001b[39m=\u001b[39ms, c\u001b[39m=\u001b[39mc, marker\u001b[39m=\u001b[39mmarker, cmap\u001b[39m=\u001b[39mcmap, norm\u001b[39m=\u001b[39mnorm,\n\u001b[0;32m   2800\u001b[0m         vmin\u001b[39m=\u001b[39mvmin, vmax\u001b[39m=\u001b[39mvmax, alpha\u001b[39m=\u001b[39malpha, linewidths\u001b[39m=\u001b[39mlinewidths,\n\u001b[0;32m   2801\u001b[0m         edgecolors\u001b[39m=\u001b[39medgecolors, plotnonfinite\u001b[39m=\u001b[39mplotnonfinite,\n\u001b[0;32m   2802\u001b[0m         \u001b[39m*\u001b[39m\u001b[39m*\u001b[39m({\u001b[39m\"\u001b[39m\u001b[39mdata\u001b[39m\u001b[39m\"\u001b[39m: data} \u001b[39mif\u001b[39;00m data \u001b[39mis\u001b[39;00m \u001b[39mnot\u001b[39;00m \u001b[39mNone\u001b[39;00m \u001b[39melse\u001b[39;00m {}), \u001b[39m*\u001b[39m\u001b[39m*\u001b[39mkwargs)\n\u001b[0;32m   2803\u001b[0m     sci(__ret)\n\u001b[0;32m   2804\u001b[0m     \u001b[39mreturn\u001b[39;00m __ret\n",
      "File \u001b[1;32mc:\\Users\\Subhang Mokkarala\\AppData\\Local\\Programs\\Python\\Python310\\lib\\site-packages\\matplotlib\\__init__.py:1433\u001b[0m, in \u001b[0;36m_preprocess_data.<locals>.inner\u001b[1;34m(ax, data, *args, **kwargs)\u001b[0m\n\u001b[0;32m   1430\u001b[0m \u001b[39m@functools\u001b[39m\u001b[39m.\u001b[39mwraps(func)\n\u001b[0;32m   1431\u001b[0m \u001b[39mdef\u001b[39;00m \u001b[39minner\u001b[39m(ax, \u001b[39m*\u001b[39margs, data\u001b[39m=\u001b[39m\u001b[39mNone\u001b[39;00m, \u001b[39m*\u001b[39m\u001b[39m*\u001b[39mkwargs):\n\u001b[0;32m   1432\u001b[0m     \u001b[39mif\u001b[39;00m data \u001b[39mis\u001b[39;00m \u001b[39mNone\u001b[39;00m:\n\u001b[1;32m-> 1433\u001b[0m         \u001b[39mreturn\u001b[39;00m func(ax, \u001b[39m*\u001b[39m\u001b[39mmap\u001b[39m(sanitize_sequence, args), \u001b[39m*\u001b[39m\u001b[39m*\u001b[39mkwargs)\n\u001b[0;32m   1435\u001b[0m     bound \u001b[39m=\u001b[39m new_sig\u001b[39m.\u001b[39mbind(ax, \u001b[39m*\u001b[39margs, \u001b[39m*\u001b[39m\u001b[39m*\u001b[39mkwargs)\n\u001b[0;32m   1436\u001b[0m     auto_label \u001b[39m=\u001b[39m (bound\u001b[39m.\u001b[39marguments\u001b[39m.\u001b[39mget(label_namer)\n\u001b[0;32m   1437\u001b[0m                   \u001b[39mor\u001b[39;00m bound\u001b[39m.\u001b[39mkwargs\u001b[39m.\u001b[39mget(label_namer))\n",
      "File \u001b[1;32mc:\\Users\\Subhang Mokkarala\\AppData\\Local\\Programs\\Python\\Python310\\lib\\site-packages\\matplotlib\\axes\\_axes.py:4526\u001b[0m, in \u001b[0;36mAxes.scatter\u001b[1;34m(self, x, y, s, c, marker, cmap, norm, vmin, vmax, alpha, linewidths, edgecolors, plotnonfinite, **kwargs)\u001b[0m\n\u001b[0;32m   4524\u001b[0m y \u001b[39m=\u001b[39m np\u001b[39m.\u001b[39mma\u001b[39m.\u001b[39mravel(y)\n\u001b[0;32m   4525\u001b[0m \u001b[39mif\u001b[39;00m x\u001b[39m.\u001b[39msize \u001b[39m!=\u001b[39m y\u001b[39m.\u001b[39msize:\n\u001b[1;32m-> 4526\u001b[0m     \u001b[39mraise\u001b[39;00m \u001b[39mValueError\u001b[39;00m(\u001b[39m\"\u001b[39m\u001b[39mx and y must be the same size\u001b[39m\u001b[39m\"\u001b[39m)\n\u001b[0;32m   4528\u001b[0m \u001b[39mif\u001b[39;00m s \u001b[39mis\u001b[39;00m \u001b[39mNone\u001b[39;00m:\n\u001b[0;32m   4529\u001b[0m     s \u001b[39m=\u001b[39m (\u001b[39m20\u001b[39m \u001b[39mif\u001b[39;00m mpl\u001b[39m.\u001b[39mrcParams[\u001b[39m'\u001b[39m\u001b[39m_internal.classic_mode\u001b[39m\u001b[39m'\u001b[39m] \u001b[39melse\u001b[39;00m\n\u001b[0;32m   4530\u001b[0m          mpl\u001b[39m.\u001b[39mrcParams[\u001b[39m'\u001b[39m\u001b[39mlines.markersize\u001b[39m\u001b[39m'\u001b[39m] \u001b[39m*\u001b[39m\u001b[39m*\u001b[39m \u001b[39m2.0\u001b[39m)\n",
      "\u001b[1;31mValueError\u001b[0m: x and y must be the same size"
     ]
    },
    {
     "data": {
      "image/png": "[encoded data removed]",
      "text/plain": [
       "<Figure size 640x480 with 1 Axes>"
      ]
     },
     "metadata": {},
     "output_type": "display_data"
    }
   ],
   "source": [
    "X1 = np.linspace(0,1,60)\n",
    "plt.scatter(X1,y_test)\n",
    "plt.scatter(X1,yp)"
   ]
  }
 ],
 "metadata": {
  "kernelspec": {
   "display_name": "Python 3",
   "language": "python",
   "name": "python3"
  },
  "language_info": {
   "codemirror_mode": {
    "name": "ipython",
    "version": 3
   },
   "file_extension": ".py",
   "mimetype": "text/x-python",
   "name": "python",
   "nbconvert_exporter": "python",
   "pygments_lexer": "ipython3",
   "version": "3.10.9"
  },
  "orig_nbformat": 4,
  "vscode": {
   "interpreter": {
    "hash": "703a2633d53f0ac0693f18e961e3a01f114d9a575ce319f9f5162902043ab7c8"
   }
  }
 },
 "nbformat": 4,
 "nbformat_minor": 2
}
