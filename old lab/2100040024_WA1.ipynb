{
 "cells": [
  {
   "cell_type": "code",
   "execution_count": 1,
   "metadata": {},
   "outputs": [
    {
     "name": "stdout",
     "output_type": "stream",
     "text": [
      "[34, 20, 43, 48, 31, 33, 46, 46, 11, 48, 35, 5, 11, 41, 35, 6, 42, 45, 20, 7, 16, 3, 3, 21, 1, 49, 18, 19, 20, 2, 20, 18, 12, 27, 9, 45, 27, 28, 30, 7, 47, 7, 8, 43, 36, 47, 36, 33, 13, 49]\n",
      "\n",
      "[5.83095189 4.47213595 6.55743852 6.92820323 5.56776436 5.74456265\n",
      " 6.78232998 6.78232998 3.31662479 6.92820323 5.91607978 2.23606798\n",
      " 3.31662479 6.40312424 5.91607978 2.44948974 6.4807407  6.70820393\n",
      " 4.47213595 2.64575131 4.         1.73205081 1.73205081 4.58257569\n",
      " 1.         7.         4.24264069 4.35889894 4.47213595 1.41421356\n",
      " 4.47213595 4.24264069 3.46410162 5.19615242 3.         6.70820393\n",
      " 5.19615242 5.29150262 5.47722558 2.64575131 6.8556546  2.64575131\n",
      " 2.82842712 6.55743852 6.         6.8556546  6.         5.74456265\n",
      " 3.60555128 7.        ]\n"
     ]
    }
   ],
   "source": [
    "#sqrt of a list of numbers and print the result as a numpy array\n",
    "import numpy as np\n",
    "import random\n",
    "list=[]\n",
    "n=50\n",
    "for i in range(n):\n",
    "    list.append(random.randint(1,49))\n",
    "print(list)\n",
    "  \n",
    "  #sqrt of list\n",
    "b=np.sqrt(list)\n",
    "\n",
    "print()\n",
    "print(np.array(b))"
   ]
  },
  {
   "cell_type": "code",
   "execution_count": 27,
   "metadata": {},
   "outputs": [
    {
     "name": "stdout",
     "output_type": "stream",
     "text": [
      "[9, 1, 2, 3, 4, 5, 6, 7, 8, 0]\n"
     ]
    }
   ],
   "source": [
    "# Python program to swap elements at first and last position in list\n",
    "import numpy as np\n",
    "# Swap function\n",
    "def swapPositions(list, pos1, pos2):\n",
    "\t\n",
    "\tlist[pos1], list[pos2] = list[pos2], list[pos1]\n",
    "\treturn list\n",
    "\n",
    "# Driver function\n",
    "n=10\n",
    "List = [i for i in range(n)]\n",
    "pos1, pos2 = 1, 10\n",
    "\n",
    "print(swapPositions(List, pos1-1, pos2-1))\n"
   ]
  },
  {
   "cell_type": "code",
   "execution_count": 3,
   "metadata": {},
   "outputs": [
    {
     "name": "stdout",
     "output_type": "stream",
     "text": [
      "[71 22 90 67 50]\n",
      "[95 10 87 82 33]\n",
      "\n",
      "[166  32 177 149  83]\n",
      "[-24  12   3 -15  17]\n",
      "[6745  220 7830 5494 1650]\n",
      "[0.74736842 2.2        1.03448276 0.81707317 1.51515152]\n"
     ]
    }
   ],
   "source": [
    "# 2 arrays mathematical operations\n",
    "import numpy as np\n",
    "from numpy import random\n",
    "x=random.randint(100, size=(5))\n",
    "y=random.randint(100, size=(5))\n",
    "print(x)\n",
    "print(y)\n",
    "#mathematical operations\n",
    "print()\n",
    "#addition \n",
    "z = x + y\n",
    "print(z)\n",
    "#subtraction\n",
    "z = x - y\n",
    "print(z)\n",
    "#multiplication\n",
    "z = x * y\n",
    "print(z)\n",
    "#divison\n",
    "z = x / y\n",
    "print(z)\n",
    "\n"
   ]
  }
 ],
 "metadata": {
  "kernelspec": {
   "display_name": "Python 3",
   "language": "python",
   "name": "python3"
  },
  "language_info": {
   "codemirror_mode": {
    "name": "ipython",
    "version": 3
   },
   "file_extension": ".py",
   "mimetype": "text/x-python",
   "name": "python",
   "nbconvert_exporter": "python",
   "pygments_lexer": "ipython3",
   "version": "3.10.9"
  },
  "orig_nbformat": 4,
  "vscode": {
   "interpreter": {
    "hash": "703a2633d53f0ac0693f18e961e3a01f114d9a575ce319f9f5162902043ab7c8"
   }
  }
 },
 "nbformat": 4,
 "nbformat_minor": 2
}
