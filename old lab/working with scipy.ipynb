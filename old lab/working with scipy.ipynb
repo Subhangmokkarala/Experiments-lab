{
 "cells": [
  {
   "cell_type": "code",
   "execution_count": null,
   "metadata": {},
   "outputs": [],
   "source": []
  }
 ],
 "metadata": {
  "kernelspec": {
   "display_name": "Python 3",
   "language": "python",
   "name": "python3"
  },
  "language_info": {
   "name": "python",
   "version": "3.10.9"
  },
  "orig_nbformat": 4,
  "vscode": {
   "interpreter": {
    "hash": "703a2633d53f0ac0693f18e961e3a01f114d9a575ce319f9f5162902043ab7c8"
   }
  }
 },
 "nbformat": 4,
 "nbformat_minor": 2
}
