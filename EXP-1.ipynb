{
 "cells": [
  {
   "cell_type": "code",
   "execution_count": 2,
   "id": "cce35876",
   "metadata": {},
   "outputs": [
    {
     "name": "stdout",
     "output_type": "stream",
     "text": [
      "3.10.9\n"
     ]
    }
   ],
   "source": [
    "from platform import python_version\n",
    "\n",
    "print(python_version())"
   ]
  },
  {
   "cell_type": "code",
   "execution_count": 3,
   "id": "6620ef89",
   "metadata": {},
   "outputs": [
    {
     "name": "stdout",
     "output_type": "stream",
     "text": [
      "<class 'list'>\n",
      "5\n"
     ]
    },
    {
     "data": {
      "text/plain": [
       "5"
      ]
     },
     "execution_count": 3,
     "metadata": {},
     "output_type": "execute_result"
    }
   ],
   "source": [
    "import numpy as np\n",
    "x = [1, 2, 3, 4, 5]\n",
    "print(type(x))\n",
    "print(len(x))\n",
    "len(x)"
   ]
  },
  {
   "cell_type": "code",
   "execution_count": 4,
   "id": "459707fc",
   "metadata": {},
   "outputs": [
    {
     "name": "stdout",
     "output_type": "stream",
     "text": [
      "<class 'list'>\n",
      "2\n"
     ]
    }
   ],
   "source": [
    "x1 = [[1, 2, 3, 4], [5, 6, 7, 8]]\n",
    "print(type(x1))\n",
    "print(len(x1))"
   ]
  },
  {
   "cell_type": "code",
   "execution_count": 5,
   "id": "47c8c928",
   "metadata": {},
   "outputs": [
    {
     "data": {
      "text/plain": [
       "(2, 4)"
      ]
     },
     "execution_count": 5,
     "metadata": {},
     "output_type": "execute_result"
    }
   ],
   "source": [
    "X1 = np.array(x1, dtype=np.double)\n",
    "X1.shape"
   ]
  },
  {
   "cell_type": "code",
   "execution_count": 6,
   "id": "c2afc81c",
   "metadata": {},
   "outputs": [
    {
     "name": "stdout",
     "output_type": "stream",
     "text": [
      "[[-8. -6. -4. -2.]\n",
      " [ 4.  3.  2.  1.]]\n"
     ]
    }
   ],
   "source": [
    "(2, 4)\n",
    "y1 = np.array([\n",
    "    [9, 8, 7, 6],\n",
    "    [1, 3, 5, 7]\n",
    "], dtype=np.float16)\n",
    "print(X1 - y1)"
   ]
  },
  {
   "cell_type": "code",
   "execution_count": 7,
   "id": "c7284ba3",
   "metadata": {},
   "outputs": [
    {
     "name": "stdout",
     "output_type": "stream",
     "text": [
      "[ 1  6 11 16 21 26 31 36 41 46]\n",
      "<class 'numpy.ndarray'>\n"
     ]
    }
   ],
   "source": [
    "x = np.arange(1, 50, 5, dtype=np.uint)\n",
    "print(x)\n",
    "print(type(x))"
   ]
  },
  {
   "cell_type": "code",
   "execution_count": 8,
   "id": "599455b5",
   "metadata": {},
   "outputs": [
    {
     "name": "stdout",
     "output_type": "stream",
     "text": [
      "[1.         1.10126582 1.20253165 1.30379747 1.40506329 1.50632911\n",
      " 1.60759494 1.70886076 1.81012658 1.91139241 2.01265823 2.11392405\n",
      " 2.21518987 2.3164557  2.41772152 2.51898734 2.62025316 2.72151899\n",
      " 2.82278481 2.92405063 3.02531646 3.12658228 3.2278481  3.32911392\n",
      " 3.43037975 3.53164557 3.63291139 3.73417722 3.83544304 3.93670886\n",
      " 4.03797468 4.13924051 4.24050633 4.34177215 4.44303797 4.5443038\n",
      " 4.64556962 4.74683544 4.84810127 4.94936709 5.05063291 5.15189873\n",
      " 5.25316456 5.35443038 5.4556962  5.55696203 5.65822785 5.75949367\n",
      " 5.86075949 5.96202532 6.06329114 6.16455696 6.26582278 6.36708861\n",
      " 6.46835443 6.56962025 6.67088608 6.7721519  6.87341772 6.97468354\n",
      " 7.07594937 7.17721519 7.27848101 7.37974684 7.48101266 7.58227848\n",
      " 7.6835443  7.78481013 7.88607595 7.98734177 8.08860759 8.18987342\n",
      " 8.29113924 8.39240506 8.49367089 8.59493671 8.69620253 8.79746835\n",
      " 8.89873418 9.        ]\n"
     ]
    }
   ],
   "source": [
    "x = np.linspace(1, 9, 80)\n",
    "print(x)"
   ]
  },
  {
   "cell_type": "code",
   "execution_count": 9,
   "id": "95b27bf4",
   "metadata": {},
   "outputs": [
    {
     "name": "stdout",
     "output_type": "stream",
     "text": [
      "[[1. 0.]\n",
      " [0. 1.]]\n",
      "[[1. 0. 0. 0. 0.]\n",
      " [0. 1. 0. 0. 0.]\n",
      " [0. 0. 1. 0. 0.]]\n"
     ]
    }
   ],
   "source": [
    "x = np.eye(2)\n",
    "print(x)\n",
    "print(np.eye(3, 5))"
   ]
  },
  {
   "cell_type": "code",
   "execution_count": 10,
   "id": "ef78e62d",
   "metadata": {},
   "outputs": [
    {
     "name": "stdout",
     "output_type": "stream",
     "text": [
      "[[0 0 0 0 0]\n",
      " [0 0 0 0 0]\n",
      " [2 0 0 0 0]\n",
      " [0 3 0 0 0]\n",
      " [0 0 4 0 0]]\n"
     ]
    }
   ],
   "source": [
    "x = np.diag([2, 3, 4], -2)   # Replace 0 with +1 and -1\n",
    "print(x)"
   ]
  },
  {
   "cell_type": "code",
   "execution_count": 11,
   "id": "530a022d",
   "metadata": {},
   "outputs": [
    {
     "name": "stdout",
     "output_type": "stream",
     "text": [
      "[[  1   1   1   1   1]\n",
      " [ 16   8   4   2   1]\n",
      " [ 81  27   9   3   1]\n",
      " [256  64  16   4   1]]\n",
      "[[1. 1. 1.]\n",
      " [1. 1. 1.]\n",
      " [1. 1. 1.]]\n"
     ]
    }
   ],
   "source": [
    "x = np.vander([1, 2, 3, 4], 5)\n",
    "print(x)\n",
    "x = np.ones((3, 3))\n",
    "print(x)"
   ]
  },
  {
   "cell_type": "code",
   "execution_count": 12,
   "id": "ce7215dc",
   "metadata": {},
   "outputs": [
    {
     "name": "stdout",
     "output_type": "stream",
     "text": [
      "[[0. 0.]\n",
      " [0. 0.]\n",
      " [0. 0.]]\n"
     ]
    }
   ],
   "source": [
    "x = np.zeros((3, 2))\n",
    "print(x)"
   ]
  },
  {
   "cell_type": "code",
   "execution_count": 13,
   "id": "fbf50bf5",
   "metadata": {},
   "outputs": [
    {
     "name": "stdout",
     "output_type": "stream",
     "text": [
      "[[0.36634692 0.19929538 0.08855837]\n",
      " [0.65319169 0.45933704 0.98767562]]\n"
     ]
    }
   ],
   "source": [
    "from numpy.random import default_rng\n",
    "x = default_rng(22).random((2, 3)) # Change 0 to 42 or any other like 6\n",
    "print(x)"
   ]
  },
  {
   "cell_type": "code",
   "execution_count": 14,
   "id": "1a11602c",
   "metadata": {},
   "outputs": [
    {
     "name": "stdout",
     "output_type": "stream",
     "text": [
      "[[[0 0]]\n",
      "\n",
      " [[0 1]]]\n"
     ]
    }
   ],
   "source": [
    "x = np.indices((1,2))\n",
    "#x = np.indices((2,3))\n",
    "#x = np.indices((3,3))\n",
    "#x = np.indices((1,3))\n",
    "print(x)"
   ]
  },
  {
   "cell_type": "code",
   "execution_count": 15,
   "id": "bf209bc6",
   "metadata": {},
   "outputs": [
    {
     "name": "stdout",
     "output_type": "stream",
     "text": [
      "[40]\n"
     ]
    }
   ],
   "source": [
    "a = np.array([1, 2, 3, 4, 5, 6])\n",
    "b = a[3:4].copy()\n",
    "b *= 10 # b = b*10\n",
    "print(b)"
   ]
  },
  {
   "cell_type": "code",
   "execution_count": 16,
   "id": "e43aabf7",
   "metadata": {},
   "outputs": [
    {
     "data": {
      "text/plain": [
       "array([0, 1, 2, 3, 4, 5], dtype=int64)"
      ]
     },
     "execution_count": 16,
     "metadata": {},
     "output_type": "execute_result"
    }
   ],
   "source": [
    "index = np.where(a)[0] # type 1 in place of 0\n",
    "index"
   ]
  },
  {
   "cell_type": "code",
   "execution_count": 17,
   "id": "6fb42655",
   "metadata": {},
   "outputs": [
    {
     "name": "stdout",
     "output_type": "stream",
     "text": [
      "[1. 0. 0. 0. 0. 1. 0. 0. 0. 0. 1. 0. 0. 0. 0. 1.]\n",
      "[[1]\n",
      " [2]\n",
      " [3]\n",
      " [4]]\n"
     ]
    }
   ],
   "source": [
    "a = np.array([1, 2, 3, 4])\n",
    "b = np.eye(4, 4)\n",
    "print(np.hstack(b))\n",
    "print(np.vstack(a))"
   ]
  },
  {
   "cell_type": "code",
   "execution_count": 18,
   "id": "2043db0b",
   "metadata": {},
   "outputs": [
    {
     "name": "stdout",
     "output_type": "stream",
     "text": [
      "[[1. 0. 1. 1.]\n",
      " [0. 1. 1. 1.]\n",
      " [0. 0. 3. 0.]\n",
      " [0. 0. 0. 4.]]\n"
     ]
    }
   ],
   "source": [
    "C1 = np.eye(2, 2)\n",
    "C2 = np.ones((2, 2))\n",
    "C3 = np.zeros((2, 2))\n",
    "C4 = np.diag((3, 4))\n",
    "B = np.block([[C1, C2], [C3, C4]])\n",
    "print(B)"
   ]
  },
  {
   "cell_type": "code",
   "execution_count": 19,
   "id": "0aa13e26",
   "metadata": {},
   "outputs": [
    {
     "name": "stdout",
     "output_type": "stream",
     "text": [
      "[0 1 2 3 4 5 6 7 8 9]\n",
      "2\n",
      "8\n"
     ]
    }
   ],
   "source": [
    "x = np.arange(10)\n",
    "print(x)\n",
    "print(x[2])  # forward index\n",
    "print(x[-2])  # reverse indexing"
   ]
  },
  {
   "cell_type": "code",
   "execution_count": 20,
   "id": "e9b8f7f0",
   "metadata": {},
   "outputs": [
    {
     "name": "stdout",
     "output_type": "stream",
     "text": [
      "(3, 3)\n",
      "8\n",
      "[[1]\n",
      " [4]\n",
      " [7]]\n"
     ]
    }
   ],
   "source": [
    "x = np.array([\n",
    "    [1, 2, 3],\n",
    "    [4, 5, 6],\n",
    "    [7, 8, 9]\n",
    "])\n",
    "print(x.shape)\n",
    "print(x[-1, -2])\n",
    "print(x[:3, :1])"
   ]
  },
  {
   "cell_type": "code",
   "execution_count": 21,
   "id": "c3556e14",
   "metadata": {},
   "outputs": [
    {
     "name": "stdout",
     "output_type": "stream",
     "text": [
      "[1 3 5 7]\n",
      "[9 7 5 3]\n",
      "[8 9]\n",
      "[7 6 5 4]\n",
      "[5 6 7 8 9]\n"
     ]
    }
   ],
   "source": [
    "x = np.arange(10)\n",
    "print(x[1:9:2])\n",
    "print(x[-1:-9:-2])\n",
    "print(x[-2:10])\n",
    "print(x[-3:3:-1])\n",
    "print(x[5:])"
   ]
  },
  {
   "cell_type": "code",
   "execution_count": 22,
   "id": "bedf90c4",
   "metadata": {},
   "outputs": [
    {
     "name": "stdout",
     "output_type": "stream",
     "text": [
      "[9, 12, 15]\n",
      "[0 0 0]\n",
      "[1 1 1]\n",
      "[1 2 3]\n",
      "[3 3 3]\n"
     ]
    }
   ],
   "source": [
    "X = [1, 2, 3]\n",
    "Z = [4, 5, 6]\n",
    "y = [a + b * 2 for a, b in zip(X, Z)]\n",
    "print(y)\n",
    "print(np.zeros_like(X))\n",
    "print(np.ones_like(X))\n",
    "print(np.empty_like(X))\n",
    "print(np.full_like(X, 3))"
   ]
  },
  {
   "cell_type": "code",
   "execution_count": 23,
   "id": "5759157d",
   "metadata": {},
   "outputs": [
    {
     "name": "stdout",
     "output_type": "stream",
     "text": [
      "[0 1 2]\n",
      "[1 2 3 4 5]\n",
      "[1. 3. 5.]\n",
      "[1.         2.66666667 4.33333333 6.        ]\n"
     ]
    }
   ],
   "source": [
    "print(np.arange(3))\n",
    "print(np.arange(1, 6))\n",
    "print(np.arange(1., 6., 2))\n",
    "print(np.linspace(1, 6, 4))"
   ]
  },
  {
   "cell_type": "code",
   "execution_count": 24,
   "id": "6351599a",
   "metadata": {},
   "outputs": [
    {
     "name": "stdout",
     "output_type": "stream",
     "text": [
      "[3 3 1]\n",
      "[2 0 2]\n",
      "[0.02951913 0.73485137 0.6122483 ]\n",
      "[ 1.79398466 -0.56497022  0.93282719]\n",
      "[0.27847838 0.82291053]\n",
      "[1.10579659 2.40260543 5.54489124]\n"
     ]
    }
   ],
   "source": [
    "rng = np.random.default_rng()\n",
    "print(rng.integers(0, 9, 3))  # excluding 9\n",
    "print(rng.integers(0, 9, 3, endpoint=True))  # include 9\n",
    "print(rng.random(3))\n",
    "print(rng.standard_normal(3))\n",
    "print(rng.uniform(0, 7, 2))\n",
    "print(rng.normal(5, 2, 3))"
   ]
  },
  {
   "cell_type": "code",
   "execution_count": 25,
   "id": "ee67cae6",
   "metadata": {},
   "outputs": [
    {
     "name": "stdout",
     "output_type": "stream",
     "text": [
      "[0 1 2 3 4 5]\n",
      "2\n",
      "[2 3]\n",
      "[3 4 5]\n",
      "[5 3 1]\n",
      "[2 3 4 5]\n",
      "[0 1]\n",
      "[0 1 2 3 4 5]\n"
     ]
    }
   ],
   "source": [
    "a = np.arange(0, 6)\n",
    "print(a)\n",
    "print(a[2])\n",
    "print(a[2:4])\n",
    "print(a[-3:])\n",
    "print(a[::-2])\n",
    "print(a[2::])\n",
    "print(a[:2:])\n",
    "b = a.copy()\n",
    "print(b[:])"
   ]
  },
  {
   "cell_type": "code",
   "execution_count": 26,
   "id": "96ce359e",
   "metadata": {},
   "outputs": [
    {
     "name": "stdout",
     "output_type": "stream",
     "text": [
      "False\n"
     ]
    }
   ],
   "source": [
    "a = np.array([1, 2, 5, 8, 4, 9, 3])\n",
    "b = a > 5\n",
    "b = np.any(a > 5)\n",
    "b = np.all(a > 5)\n",
    "print(b)"
   ]
  },
  {
   "cell_type": "code",
   "execution_count": 27,
   "id": "37238566",
   "metadata": {},
   "outputs": [
    {
     "name": "stdout",
     "output_type": "stream",
     "text": [
      "[8 9]\n",
      "[1 2 5 0 4 0 3]\n",
      "[1 2 0 0 7 0 9 2]\n",
      "(4, 4)\n",
      "[[ 1  2  3  4]\n",
      " [ 5  6  7  8]\n",
      " [ 9 10 11 12]\n",
      " [13 14 15 16]]\n"
     ]
    }
   ],
   "source": [
    "print(a[a > 5])\n",
    "a[a > 5] = 0\n",
    "print(a)\n",
    "a = np.array([1, 2, 4, 5, 7, 3, 9, 2])\n",
    "a[(a >= 3) & (a <= 5)] = 0\n",
    "print(a)\n",
    "a = np.array([\n",
    "    [1, 2, 3, 4],\n",
    "    [5, 6, 7, 8],\n",
    "    [9, 10, 11, 12],\n",
    "    [13, 14, 15, 16]\n",
    "])\n",
    "print(a.shape)\n",
    "print(a[:4])"
   ]
  },
  {
   "cell_type": "code",
   "execution_count": 28,
   "id": "080d9bfb",
   "metadata": {},
   "outputs": [
    {
     "name": "stdout",
     "output_type": "stream",
     "text": [
      "(array([ 3,  4,  6,  7,  8,  9, 10], dtype=int64),)\n",
      "(array([4, 7, 8, 9], dtype=int64),)\n",
      "11\n"
     ]
    }
   ],
   "source": [
    "a = np.array([1, 2, 3, 4, 5, 3, 4, 6, 7, 8, 4])\n",
    "print(np.where(a > 3))\n",
    "print(np.nonzero(a > 4))\n",
    "print(len(a))"
   ]
  },
  {
   "cell_type": "code",
   "execution_count": 29,
   "id": "34a97d05",
   "metadata": {},
   "outputs": [
    {
     "name": "stdout",
     "output_type": "stream",
     "text": [
      "[4 6]\n",
      "[-2 -2]\n",
      "[3 8]\n",
      "[0.33333333 0.5       ]\n",
      "[0 0]\n",
      "[ 1 16]\n",
      "[1.         1.41421356]\n",
      "[2.71828183 7.3890561 ]\n",
      "[0.         0.69314718]\n",
      "11\n",
      "-2\n"
     ]
    }
   ],
   "source": [
    "a = np.array([1, 2])\n",
    "b = np.array([3, 4])\n",
    "print(a + b)\n",
    "print(a - b)\n",
    "print(a * b)\n",
    "print(a / b)\n",
    "print(a // b)\n",
    "print(a ** b)\n",
    "print(np.sqrt(a))\n",
    "print(np.exp(a))\n",
    "print(np.log(a))\n",
    "print(np.dot(a, b))\n",
    "print(np.cross(a, b))"
   ]
  },
  {
   "cell_type": "code",
   "execution_count": 30,
   "id": "73e48f60",
   "metadata": {},
   "outputs": [
    {
     "ename": "NameError",
     "evalue": "name 's' is not defined",
     "output_type": "error",
     "traceback": [
      "\u001b[1;31m---------------------------------------------------------------------------\u001b[0m",
      "\u001b[1;31mNameError\u001b[0m                                 Traceback (most recent call last)",
      "Cell \u001b[1;32mIn[30], line 1\u001b[0m\n\u001b[1;32m----> 1\u001b[0m \u001b[39mprint\u001b[39m(s\u001b[39m.\u001b[39mcapitalize())  \u001b[39m# Capitalize a string; prints \"Hello\"\u001b[39;00m\n\u001b[0;32m      2\u001b[0m \u001b[39mprint\u001b[39m(s\u001b[39m.\u001b[39mupper())       \u001b[39m# Convert a string to uppercase; prints \"HELLO\"\u001b[39;00m\n\u001b[0;32m      3\u001b[0m \u001b[39mprint\u001b[39m(s\u001b[39m.\u001b[39mrjust(\u001b[39m7\u001b[39m))      \u001b[39m# Right-justify a string, padding with spaces; prints \"  hello\"\u001b[39;00m\n",
      "\u001b[1;31mNameError\u001b[0m: name 's' is not defined"
     ]
    }
   ],
   "source": [
    "\n",
    "print(s.capitalize())  # Capitalize a string; prints \"Hello\"\n",
    "print(s.upper())       # Convert a string to uppercase; prints \"HELLO\"\n",
    "print(s.rjust(7))      # Right-justify a string, padding with spaces; prints \"  hello\"\n",
    "print(s.center(7))     # Center a string, padding with spaces; prints \" hello \"\n",
    "print(s.replace('l', '(ell)'))  # Replace all instances of one substring with another;\n",
    "                                # prints \"he(ell)(ell)o\"\n",
    "print('  world '.strip())  # Strip leading and trailing whitespace; prints \"world\"\n",
    "birds = ['hen', 'pegion', 'parrot','peacock','duck']\n",
    "for bird in birds:\n",
    "    print(bird) # Try birds"
   ]
  },
  {
   "cell_type": "code",
   "execution_count": null,
   "id": "fd817439",
   "metadata": {},
   "outputs": [
    {
     "name": "stdout",
     "output_type": "stream",
     "text": [
      "[3, 1, 2] 2\n",
      "2\n",
      "[3, 1, 'Mlwp']\n",
      "[3, 1, 'Mlwp', 'python']\n"
     ]
    }
   ],
   "source": [
    "xs = [3, 1, 2]    # Create a list\n",
    "print(xs, xs[2])  # Prints \"[3, 1, 2] 2\"\n",
    "print(xs[-1])     # Negative indices count from the end of the list; prints \"2\"\n",
    "xs[2] = 'Mlwp'     # Lists can contain elements of different types\n",
    "print(xs)         \n",
    "xs.append('python')  # Add a new element to the end of the list\n",
    "print(xs)         \n",
    "x = xs.pop()      # Remove and return the last element of the lis"
   ]
  },
  {
   "cell_type": "code",
   "execution_count": null,
   "id": "809b210e",
   "metadata": {},
   "outputs": [
    {
     "name": "stdout",
     "output_type": "stream",
     "text": [
      "[0, 1, 2, 3, 4, 5, 6, 7]\n",
      "[2, 3]\n",
      "[2, 3, 4, 5, 6, 7]\n",
      "[0, 1]\n",
      "[0, 1, 2, 3, 4, 5, 6, 7]\n",
      "[0, 1, 2, 3, 4, 5, 6]\n",
      "[0, 1, 9, 10, 4, 5, 6, 7]\n"
     ]
    }
   ],
   "source": [
    "a_list = list(range(8))     # range is a built-in function that creates a list of integers\n",
    "print(a_list)\n",
    "print(a_list[2:4])          # Get a slice from index 2 to 4 (exclusive); prints \"[2, 3]\"\n",
    "print(a_list[2:])           # Get a slice from index 2 to the end; prints \"[2, 3, 4]\"\n",
    "print(a_list[:2])           # Get a slice from the start to index 2 (exclusive); prints \"[0, 1]\"\n",
    "print(a_list[:])            # Get a slice of the whole list; prints \"[0, 1, 2, 3, 4]\"\n",
    "print(a_list[:-1])          # Slice indices can be negative; prints \"[0, 1, 2, 3]\"\n",
    "a_list[2:4] = [9, 10]        # Assign a new sublist to a slice\n",
    "print(a_list)           "
   ]
  },
  {
   "cell_type": "code",
   "execution_count": null,
   "id": "7ee8ef23",
   "metadata": {},
   "outputs": [],
   "source": []
  }
 ],
 "metadata": {
  "kernelspec": {
   "display_name": "Python 3 (ipykernel)",
   "language": "python",
   "name": "python3"
  },
  "language_info": {
   "codemirror_mode": {
    "name": "ipython",
    "version": 3
   },
   "file_extension": ".py",
   "mimetype": "text/x-python",
   "name": "python",
   "nbconvert_exporter": "python",
   "pygments_lexer": "ipython3",
   "version": "3.10.9"
  }
 },
 "nbformat": 4,
 "nbformat_minor": 5
}
