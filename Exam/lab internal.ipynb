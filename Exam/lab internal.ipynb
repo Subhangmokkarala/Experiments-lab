{
 "cells": [
  {
   "cell_type": "code",
   "execution_count": 1,
   "metadata": {},
   "outputs": [],
   "source": [
    "#importing libraries\n",
    "import pandas as pd\n",
    "import numpy as np\n",
    "\n",
    "#reading the data\n",
    "data = pd.read_csv('Golf.csv')\n"
   ]
  },
  {
   "cell_type": "code",
   "execution_count": 3,
   "metadata": {},
   "outputs": [
    {
     "data": {
      "text/html": [
       "<div>\n",
       "<style scoped>\n",
       "    .dataframe tbody tr th:only-of-type {\n",
       "        vertical-align: middle;\n",
       "    }\n",
       "\n",
       "    .dataframe tbody tr th {\n",
       "        vertical-align: top;\n",
       "    }\n",
       "\n",
       "    .dataframe thead th {\n",
       "        text-align: right;\n",
       "    }\n",
       "</style>\n",
       "<table border=\"1\" class=\"dataframe\">\n",
       "  <thead>\n",
       "    <tr style=\"text-align: right;\">\n",
       "      <th></th>\n",
       "      <th>Temp</th>\n",
       "      <th>Humidity</th>\n",
       "      <th>Rain</th>\n",
       "      <th>Cold</th>\n",
       "      <th>Soil Condition</th>\n",
       "      <th>Play Golf</th>\n",
       "    </tr>\n",
       "  </thead>\n",
       "  <tbody>\n",
       "    <tr>\n",
       "      <th>0</th>\n",
       "      <td>High</td>\n",
       "      <td>High</td>\n",
       "      <td>No</td>\n",
       "      <td>No</td>\n",
       "      <td>Dry</td>\n",
       "      <td>Yes</td>\n",
       "    </tr>\n",
       "    <tr>\n",
       "      <th>1</th>\n",
       "      <td>Low</td>\n",
       "      <td>High</td>\n",
       "      <td>Yes</td>\n",
       "      <td>Yes</td>\n",
       "      <td>Wet</td>\n",
       "      <td>No</td>\n",
       "    </tr>\n",
       "    <tr>\n",
       "      <th>2</th>\n",
       "      <td>Low</td>\n",
       "      <td>Low</td>\n",
       "      <td>No</td>\n",
       "      <td>Yes</td>\n",
       "      <td>Dry</td>\n",
       "      <td>Yes</td>\n",
       "    </tr>\n",
       "    <tr>\n",
       "      <th>3</th>\n",
       "      <td>High</td>\n",
       "      <td>High</td>\n",
       "      <td>No</td>\n",
       "      <td>No</td>\n",
       "      <td>Dry</td>\n",
       "      <td>Yes</td>\n",
       "    </tr>\n",
       "  </tbody>\n",
       "</table>\n",
       "</div>"
      ],
      "text/plain": [
       "   Temp Humidity Rain Cold Soil Condition Play Golf\n",
       "0  High     High   No   No            Dry       Yes\n",
       "1   Low     High  Yes  Yes            Wet        No\n",
       "2   Low      Low   No  Yes            Dry       Yes\n",
       "3  High     High   No   No            Dry       Yes"
      ]
     },
     "execution_count": 3,
     "metadata": {},
     "output_type": "execute_result"
    }
   ],
   "source": [
    "data"
   ]
  },
  {
   "cell_type": "code",
   "execution_count": 5,
   "metadata": {},
   "outputs": [
    {
     "name": "stdout",
     "output_type": "stream",
     "text": [
      "For Training Example No :0 the hypothesis is S0 = ['?', '?', '?', '?', '?', '0'] and G0 = ['?', '?', '?', '?', '?', '?']\n",
      "For Training Example No :1 the hypothesis is S1 = ['?', '?', '?', '?', '?', '0'] and G1 = ['?', '?', '?', '?', '?', '?']\n",
      "For Training Example No :2 the hypothesis is S2 = ['?', '?', '?', '?', '?', '0'] and G2 = ['?', '?', '?', '?', '?', '?']\n",
      "For Training Example No :3 the hypothesis is S3 = ['?', '?', '?', '?', '?', '0'] and G3 = ['?', '?', '?', '?', '?', '?']\n",
      "The Maximally Specific Hypothesis for a given Training Examples :\n",
      "['?', '?', '?', '?', '?', '0']\n",
      "The Maximally General Hypothesis for a given Training Examples :\n",
      "['?', '?', '?', '?', '?', '?']\n"
     ]
    }
   ],
   "source": [
    "#candidate elimination algorithm\n",
    "#initializing the specific and general hypothesis\n",
    "G = ['?','?','?','?','?','?']\n",
    "S = ['0','0','0','0','0','0']\n",
    "\n",
    "#training the data\n",
    "for i in range(len(data)):\n",
    "    if data.iloc[i,-1] == 'Yes':\n",
    "        for j in range(len(data.columns)-1):\n",
    "            if data.iloc[i,j] != S[j]:\n",
    "                S[j] = '?'\n",
    "            if data.iloc[i,j] != G[j] and G[j] != '?':\n",
    "                G[j] = '?'\n",
    "    if data.iloc[i,-1] == 'No':\n",
    "        for j in range(len(data.columns)-1):\n",
    "            if data.iloc[i,j] != S[j]:\n",
    "                G[j] = S[j]\n",
    "            else:\n",
    "                G[j] = '?'\n",
    "    print(\"For Training Example No :{0} the hypothesis is S{0} = {1} and G{0} = {2}\".format(i,S,G))\n",
    "\n",
    "print(\"The Maximally Specific Hypothesis for a given Training Examples :\")\n",
    "print(S)\n",
    "print(\"The Maximally General Hypothesis for a given Training Examples :\")\n",
    "print(G)\n"
   ]
  },
  {
   "cell_type": "code",
   "execution_count": null,
   "metadata": {},
   "outputs": [],
   "source": []
  }
 ],
 "metadata": {
  "kernelspec": {
   "display_name": "Python 3",
   "language": "python",
   "name": "python3"
  },
  "language_info": {
   "codemirror_mode": {
    "name": "ipython",
    "version": 3
   },
   "file_extension": ".py",
   "mimetype": "text/x-python",
   "name": "python",
   "nbconvert_exporter": "python",
   "pygments_lexer": "ipython3",
   "version": "3.10.9"
  },
  "orig_nbformat": 4
 },
 "nbformat": 4,
 "nbformat_minor": 2
}
